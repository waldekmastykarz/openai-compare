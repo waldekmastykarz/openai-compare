{
 "cells": [
  {
   "cell_type": "code",
   "execution_count": null,
   "metadata": {},
   "outputs": [],
   "source": [
    "import scoring_functions as fn"
   ]
  },
  {
   "cell_type": "markdown",
   "metadata": {},
   "source": [
    "#### API service name\n",
    "\n",
    "How well different models generate an API service name, given the API host.\n",
    "\n",
    "| **Final Score** | **Interpretation** |\n",
    "|--------------|------------------|\n",
    "| **0.90 – 1.00** | 🔥 **Excellent match** (high accuracy, correct structure, no missing info) |\n",
    "| **0.80 – 0.89** | ✅ **Good match** (minor variations, but correct meaning) |\n",
    "| **0.70 – 0.79** | ⚠️ **Moderate match** (some incorrect phrasing or extra info) |\n",
    "| **Below 0.70** | ❌ **Weak match** (significant deviation or missing context) |"
   ]
  },
  {
   "cell_type": "code",
   "execution_count": null,
   "metadata": {},
   "outputs": [],
   "source": [
    "prompt_file = './prompts/DevProxy_v0.29.0/api_service_name.prompty'\n",
    "split_response = True\n",
    "tasks = [\n",
    "    {\n",
    "        'name': 'graph.microsoft.com',\n",
    "        'reference_texts': [\n",
    "            'Microsoft Graph',\n",
    "            'Microsoft Graph API',\n",
    "            'Microsoft 365 API'\n",
    "        ],\n",
    "        'inputs': {\n",
    "            'host_name': 'graph.microsoft.com'\n",
    "        }\n",
    "    },\n",
    "    {\n",
    "        'name': 'jsonplaceholder.typicode.com',\n",
    "        'reference_texts': [\n",
    "            'JSON Placeholder',\n",
    "            'JSON Placeholder API',\n",
    "            'JSON Placeholder API service',\n",
    "            'JSONPlaceholder',\n",
    "            'JSONPlaceholder API',\n",
    "            'JSONPlaceholder API service'\n",
    "        ],\n",
    "        'inputs': {\n",
    "            'host_name': 'jsonplaceholder.typicode.com'\n",
    "        }\n",
    "    },\n",
    "    {\n",
    "        'name': 'api.contoso.com',\n",
    "        'reference_texts': [\n",
    "            'Contoso API',\n",
    "            'Contoso API service'\n",
    "        ],\n",
    "        'inputs': {\n",
    "            'host_name': 'api.contoso.com'\n",
    "        }\n",
    "    }\n",
    "]\n",
    "score_threshold = 0.8\n",
    "metric_scorers = [\n",
    "    {\n",
    "        'name': 'BERT-F',\n",
    "        'fn': fn.calculate_bert_f,\n",
    "        'weight': 0.45\n",
    "    },\n",
    "    {\n",
    "        'name': 'Edit distance',\n",
    "        'fn': fn.calculate_edit_distance,\n",
    "        'weight': 0.1\n",
    "    },\n",
    "    {\n",
    "        'name': 'ROUGE-2',\n",
    "        'fn': fn.calculate_rouge2,\n",
    "        'weight': 0.25\n",
    "    },\n",
    "    {\n",
    "        'name': 'ROUGE-L',\n",
    "        'fn': fn.calculate_rougeL,\n",
    "        'weight': 0.2\n",
    "    }\n",
    "]"
   ]
  }
 ],
 "metadata": {
  "kernelspec": {
   "display_name": ".venv",
   "language": "python",
   "name": "python3"
  },
  "language_info": {
   "codemirror_mode": {
    "name": "ipython",
    "version": 3
   },
   "file_extension": ".py",
   "mimetype": "text/x-python",
   "name": "python",
   "nbconvert_exporter": "python",
   "pygments_lexer": "ipython3",
   "version": "3.12.8"
  }
 },
 "nbformat": 4,
 "nbformat_minor": 2
}
