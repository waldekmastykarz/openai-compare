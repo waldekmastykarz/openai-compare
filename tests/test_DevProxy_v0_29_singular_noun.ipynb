{
 "cells": [
  {
   "cell_type": "code",
   "execution_count": null,
   "metadata": {},
   "outputs": [],
   "source": [
    "import scoring_functions as fn"
   ]
  },
  {
   "cell_type": "markdown",
   "metadata": {},
   "source": [
    "#### Singular noun\n",
    "\n",
    "How well different models generate a singular noun."
   ]
  },
  {
   "cell_type": "code",
   "execution_count": null,
   "metadata": {},
   "outputs": [],
   "source": [
    "prompt_file = './prompts/DevProxy_v0.29.0/singular_noun.prompty'\n",
    "split_response = True\n",
    "tasks = [\n",
    "    {\n",
    "        'name': 'houses',\n",
    "        'reference_texts': [\n",
    "            'house'\n",
    "        ],\n",
    "        'inputs': {\n",
    "            'noun': 'houses'\n",
    "        }\n",
    "    },\n",
    "    {\n",
    "        'name': 'countries',\n",
    "        'reference_texts': [\n",
    "            'country'\n",
    "        ],\n",
    "        'inputs': {\n",
    "            'noun': 'countries'\n",
    "        }\n",
    "    },\n",
    "    {\n",
    "        'name': 'cats',\n",
    "        'reference_texts': [\n",
    "            'cat'\n",
    "        ],\n",
    "        'inputs': {\n",
    "            'noun': 'cats'\n",
    "        }\n",
    "    },\n",
    "    {\n",
    "        'name': 'sheep',\n",
    "        'reference_texts': [\n",
    "            'sheep'\n",
    "        ],\n",
    "        'inputs': {\n",
    "            'noun': 'sheep'\n",
    "        }\n",
    "    }\n",
    "]\n",
    "score_threshold = 0.8\n",
    "metric_scorers = [\n",
    "    {\n",
    "        'name': 'Exact match',\n",
    "        'fn': fn.exact_match,\n",
    "        'weight': 1\n",
    "    }\n",
    "]"
   ]
  }
 ],
 "metadata": {
  "kernelspec": {
   "display_name": ".venv",
   "language": "python",
   "name": "python3"
  },
  "language_info": {
   "codemirror_mode": {
    "name": "ipython",
    "version": 3
   },
   "file_extension": ".py",
   "mimetype": "text/x-python",
   "name": "python",
   "nbconvert_exporter": "python",
   "pygments_lexer": "ipython3",
   "version": "3.12.8"
  }
 },
 "nbformat": 4,
 "nbformat_minor": 2
}
