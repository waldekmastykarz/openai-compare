{
 "cells": [
  {
   "cell_type": "code",
   "execution_count": null,
   "metadata": {},
   "outputs": [
    {
     "ename": "ModuleNotFoundError",
     "evalue": "No module named 'scoring_functions'",
     "output_type": "error",
     "traceback": [
      "\u001b[0;31m---------------------------------------------------------------------------\u001b[0m",
      "\u001b[0;31mModuleNotFoundError\u001b[0m                       Traceback (most recent call last)",
      "Cell \u001b[0;32mIn[6], line 1\u001b[0m\n\u001b[0;32m----> 1\u001b[0m \u001b[38;5;28;01mimport\u001b[39;00m\u001b[38;5;250m \u001b[39m\u001b[38;5;21;01mscoring_functions\u001b[39;00m\u001b[38;5;250m \u001b[39m\u001b[38;5;28;01mas\u001b[39;00m\u001b[38;5;250m \u001b[39m\u001b[38;5;21;01mfn\u001b[39;00m\n",
      "\u001b[0;31mModuleNotFoundError\u001b[0m: No module named 'scoring_functions'"
     ]
    }
   ],
   "source": [
    "import scoring_functions as fn"
   ]
  },
  {
   "cell_type": "markdown",
   "metadata": {},
   "source": [
    "#### Operation description\n",
    "\n",
    "How well different models generate an operation description for use in an OpenAPI spec, given an API request\n",
    "\n",
    "| **Final Score** | **Interpretation** |\n",
    "|--------------|------------------|\n",
    "| **0.90 – 1.00** | 🔥 **Excellent match** (high accuracy, correct structure, no missing info) |\n",
    "| **0.80 – 0.89** | ✅ **Good match** (minor variations, but correct meaning) |\n",
    "| **0.70 – 0.79** | ⚠️ **Moderate match** (some incorrect phrasing or extra info) |\n",
    "| **Below 0.70** | ❌ **Weak match** (significant deviation or missing context) |"
   ]
  },
  {
   "cell_type": "code",
   "execution_count": null,
   "metadata": {},
   "outputs": [
    {
     "ename": "NameError",
     "evalue": "name 'fn' is not defined",
     "output_type": "error",
     "traceback": [
      "\u001b[0;31m---------------------------------------------------------------------------\u001b[0m",
      "\u001b[0;31mNameError\u001b[0m                                 Traceback (most recent call last)",
      "Cell \u001b[0;32mIn[5], line 60\u001b[0m\n\u001b[1;32m      3\u001b[0m tasks \u001b[38;5;241m=\u001b[39m [\n\u001b[1;32m      4\u001b[0m     {\n\u001b[1;32m      5\u001b[0m         \u001b[38;5;124m'\u001b[39m\u001b[38;5;124mname\u001b[39m\u001b[38;5;124m'\u001b[39m: \u001b[38;5;124m'\u001b[39m\u001b[38;5;124mRetrieve a list of calendars for a specific user\u001b[39m\u001b[38;5;124m'\u001b[39m,\n\u001b[0;32m   (...)\u001b[0m\n\u001b[1;32m     54\u001b[0m     }\n\u001b[1;32m     55\u001b[0m ]\n\u001b[1;32m     56\u001b[0m score_threshold \u001b[38;5;241m=\u001b[39m \u001b[38;5;241m0.8\u001b[39m\n\u001b[1;32m     57\u001b[0m metric_scorers \u001b[38;5;241m=\u001b[39m [\n\u001b[1;32m     58\u001b[0m     {\n\u001b[1;32m     59\u001b[0m         \u001b[38;5;124m'\u001b[39m\u001b[38;5;124mname\u001b[39m\u001b[38;5;124m'\u001b[39m: \u001b[38;5;124m'\u001b[39m\u001b[38;5;124mBERT-F\u001b[39m\u001b[38;5;124m'\u001b[39m,\n\u001b[0;32m---> 60\u001b[0m         \u001b[38;5;124m'\u001b[39m\u001b[38;5;124mfn\u001b[39m\u001b[38;5;124m'\u001b[39m: \u001b[43mfn\u001b[49m\u001b[38;5;241m.\u001b[39mcalculate_bert_f,\n\u001b[1;32m     61\u001b[0m         \u001b[38;5;124m'\u001b[39m\u001b[38;5;124mweight\u001b[39m\u001b[38;5;124m'\u001b[39m: \u001b[38;5;241m0.45\u001b[39m\n\u001b[1;32m     62\u001b[0m     },\n\u001b[1;32m     63\u001b[0m     {\n\u001b[1;32m     64\u001b[0m         \u001b[38;5;124m'\u001b[39m\u001b[38;5;124mname\u001b[39m\u001b[38;5;124m'\u001b[39m: \u001b[38;5;124m'\u001b[39m\u001b[38;5;124mEdit distance\u001b[39m\u001b[38;5;124m'\u001b[39m,\n\u001b[1;32m     65\u001b[0m         \u001b[38;5;124m'\u001b[39m\u001b[38;5;124mfn\u001b[39m\u001b[38;5;124m'\u001b[39m: fn\u001b[38;5;241m.\u001b[39mcalculate_edit_distance,\n\u001b[1;32m     66\u001b[0m         \u001b[38;5;124m'\u001b[39m\u001b[38;5;124mweight\u001b[39m\u001b[38;5;124m'\u001b[39m: \u001b[38;5;241m0.1\u001b[39m\n\u001b[1;32m     67\u001b[0m     },\n\u001b[1;32m     68\u001b[0m     {\n\u001b[1;32m     69\u001b[0m         \u001b[38;5;124m'\u001b[39m\u001b[38;5;124mname\u001b[39m\u001b[38;5;124m'\u001b[39m: \u001b[38;5;124m'\u001b[39m\u001b[38;5;124mROUGE-2\u001b[39m\u001b[38;5;124m'\u001b[39m,\n\u001b[1;32m     70\u001b[0m         \u001b[38;5;124m'\u001b[39m\u001b[38;5;124mfn\u001b[39m\u001b[38;5;124m'\u001b[39m: fn\u001b[38;5;241m.\u001b[39mcalculate_rouge2,\n\u001b[1;32m     71\u001b[0m         \u001b[38;5;124m'\u001b[39m\u001b[38;5;124mweight\u001b[39m\u001b[38;5;124m'\u001b[39m: \u001b[38;5;241m0.25\u001b[39m\n\u001b[1;32m     72\u001b[0m     },\n\u001b[1;32m     73\u001b[0m     {\n\u001b[1;32m     74\u001b[0m         \u001b[38;5;124m'\u001b[39m\u001b[38;5;124mname\u001b[39m\u001b[38;5;124m'\u001b[39m: \u001b[38;5;124m'\u001b[39m\u001b[38;5;124mROUGE-L\u001b[39m\u001b[38;5;124m'\u001b[39m,\n\u001b[1;32m     75\u001b[0m         \u001b[38;5;124m'\u001b[39m\u001b[38;5;124mfn\u001b[39m\u001b[38;5;124m'\u001b[39m: fn\u001b[38;5;241m.\u001b[39mcalculate_rougeL,\n\u001b[1;32m     76\u001b[0m         \u001b[38;5;124m'\u001b[39m\u001b[38;5;124mweight\u001b[39m\u001b[38;5;124m'\u001b[39m: \u001b[38;5;241m0.2\u001b[39m\n\u001b[1;32m     77\u001b[0m     }\n\u001b[1;32m     78\u001b[0m ]\n",
      "\u001b[0;31mNameError\u001b[0m: name 'fn' is not defined"
     ]
    }
   ],
   "source": [
    "prompt_file = './prompts/DevProxy_v0.29.0/api_operation_description.prompty'\n",
    "split_response = False\n",
    "tasks = [\n",
    "    {\n",
    "        'name': 'Retrieve a list of calendars for a specific user',\n",
    "        'reference_texts': [\n",
    "            \"Retrieve a user's calendars\",\n",
    "            'Retrieve calendars for a specific user',\n",
    "            'Retrieve a list of calendars for a specific user',\n",
    "            'Fetch the list of calendars associated with a user'\n",
    "        ],   \n",
    "        'inputs': {\n",
    "            'request': 'GET https://api.contoso.com/users/{users-id}/calendars'\n",
    "        }\n",
    "    },\n",
    "    {\n",
    "        'name': 'Retrieve information about a specific user',\n",
    "        'reference_texts': [\n",
    "            'Fetch details for the specified user',\n",
    "            'Get user details',\n",
    "            'Retrieve information about a specific user',\n",
    "            'Retrieve details of a specific user',\n",
    "            'Get information about a given user'\n",
    "        ],\n",
    "        'inputs': {\n",
    "            'request': 'GET https://api.contoso.com/users/{users-id}'\n",
    "        }\n",
    "    },\n",
    "    {\n",
    "        'name': 'Retrieve information about a specific calendar for a given user',\n",
    "        'reference_texts': [\n",
    "            'Retrieve information about a specific calendar for a given user.',\n",
    "            'Retrieve details of a specific calendar for a user',\n",
    "            'Fetch information about a particular calendar owned by a user',\n",
    "            'Get metadata for a specific calendar linked to a user',\n",
    "            \"Retrieve a user's calendar details\",\n",
    "            'Retrieve calendar details for a specific user',\n",
    "            \"Retrieve information about a specific user's calendar\"\n",
    "        ],\n",
    "        'inputs': { \n",
    "            'request': 'GET https://api.contoso.com/users/{users-id}/calendars/{calendars-id}'\n",
    "        }\n",
    "    },\n",
    "    {\n",
    "        'name': 'Create a new calendar for the specified user',\n",
    "        'reference_texts': [\n",
    "            'Create a new calendar for the specified user',\n",
    "            \"Add a calendar to the user's account\",\n",
    "            'Create a new calendar for a given user'\n",
    "        ],\n",
    "        'inputs': {\n",
    "            'request': 'POST https://api.contoso.com/users/{users-id}/calendars'\n",
    "        }\n",
    "    }\n",
    "]\n",
    "score_threshold = 0.8\n",
    "metric_scorers = [\n",
    "    {\n",
    "        'name': 'BERT-F',\n",
    "        'fn': fn.calculate_bert_f,\n",
    "        'weight': 0.45\n",
    "    },\n",
    "    {\n",
    "        'name': 'Edit distance',\n",
    "        'fn': fn.calculate_edit_distance,\n",
    "        'weight': 0.1\n",
    "    },\n",
    "    {\n",
    "        'name': 'ROUGE-2',\n",
    "        'fn': fn.calculate_rouge2,\n",
    "        'weight': 0.25\n",
    "    },\n",
    "    {\n",
    "        'name': 'ROUGE-L',\n",
    "        'fn': fn.calculate_rougeL,\n",
    "        'weight': 0.2\n",
    "    }\n",
    "]"
   ]
  }
 ],
 "metadata": {
  "kernelspec": {
   "display_name": "openai-compare",
   "language": "python",
   "name": "python3"
  },
  "language_info": {
   "codemirror_mode": {
    "name": "ipython",
    "version": 3
   },
   "file_extension": ".py",
   "mimetype": "text/x-python",
   "name": "python",
   "nbconvert_exporter": "python",
   "pygments_lexer": "ipython3",
   "version": "3.12.8"
  }
 },
 "nbformat": 4,
 "nbformat_minor": 2
}
